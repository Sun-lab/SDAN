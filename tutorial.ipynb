{
 "cells": [
  {
   "cell_type": "code",
   "execution_count": 1,
   "metadata": {
    "pycharm": {
     "name": "#%%\n"
    }
   },
   "outputs": [
    {
     "name": "stdout",
     "output_type": "stream",
     "text": [
      "scanpy==1.9.1 anndata==0.8.0 umap==0.5.3 numpy==1.21.5 scipy==1.9.3 pandas==1.5.2 scikit-learn==1.2.0 statsmodels==0.13.5 python-igraph==0.10.3 pynndescent==0.5.8\n"
     ]
    }
   ],
   "source": [
    "import os\n",
    "import numpy as np\n",
    "import pandas as pd\n",
    "import scanpy as sc\n",
    "import torch\n",
    "import math\n",
    "\n",
    "from SDAN.model import pipeline\n",
    "from SDAN.preprocess import qc\n",
    "from SDAN.train import test_model\n",
    "from SDAN.utils import compute_leiden, s2name\n",
    "from SDAN.args import parse_args\n",
    "\n",
    "import sklearn\n",
    "\n",
    "import warnings\n",
    "warnings.simplefilter(action='ignore', category=FutureWarning)\n",
    "\n",
    "np.random.seed(888)\n",
    "torch.manual_seed(888)\n",
    "\n",
    "sc.settings.verbosity = 3\n",
    "sc.logging.print_header()\n",
    "sc.settings.set_figure_params(figsize=(8, 6), dpi=80, facecolor='white')"
   ]
  },
  {
   "cell_type": "markdown",
   "metadata": {
    "pycharm": {
     "name": "#%% md\n"
    }
   },
   "source": [
    "Set parameters"
   ]
  },
  {
   "cell_type": "code",
   "execution_count": 2,
   "metadata": {
    "pycharm": {
     "name": "#%%\n"
    }
   },
   "outputs": [],
   "source": [
    "import argparse\n",
    "\n",
    "\n",
    "def parse_args():\n",
    "    parser = argparse.ArgumentParser()\n",
    "    parser.add_argument('--no-cuda', action='store_true', default=False,\n",
    "                        help='Disables CUDA training.')\n",
    "    parser.add_argument('--n_top_genes', type=int, default=1000,\n",
    "                        help='Number of DE genes to use for each type.')\n",
    "    parser.add_argument('--n_comp', type=int, default=40,\n",
    "                        help='Number of components.')\n",
    "    parser.add_argument('--epochs', type=int, default=50000,\n",
    "                        help='Number of epochs to train.')\n",
    "    parser.add_argument('--lr', type=float, default=1e-4,\n",
    "                        help='Initial learning rate.')\n",
    "    parser.add_argument('--hidden1', type=int, default=64,\n",
    "                        help='Number of first hidden units.')\n",
    "    parser.add_argument('--hidden2', type=int, default=64,\n",
    "                        help='Number of second hidden units.')\n",
    "    parser.add_argument('--graph_weight', type=float, default=1,\n",
    "                        help='Weight of the graph loss.')\n",
    "    parser.add_argument('--mc_weight', type=float, default=1,\n",
    "                        help='Weight of the minCUT loss.')\n",
    "    parser.add_argument('--o_weight', type=float, default=1,\n",
    "                        help='Weight of the orthogonality loss')\n",
    "    parser.add_argument('--start_patience', type=int, default=3000,\n",
    "                        help='Number of patience for early stopping.')\n",
    "    parser.add_argument('--epochs_min', type=int, default=10000,\n",
    "                        help='Minimum number of epochs to train.')\n",
    "    args = parser.parse_args([])\n",
    "    args.cuda = not args.no_cuda and torch.cuda.is_available()\n",
    "    return args\n",
    "\n",
    "args = parse_args()"
   ]
  },
  {
   "cell_type": "markdown",
   "metadata": {
    "pycharm": {
     "name": "#%% md\n"
    }
   },
   "source": [
    "Set the directions of training data and test data."
   ]
  },
  {
   "cell_type": "code",
   "execution_count": 3,
   "metadata": {
    "pycharm": {
     "name": "#%%\n"
    }
   },
   "outputs": [],
   "source": [
    "d = \"./Zheng_2017/\"\n",
    "train_dir = f'{d}sc9_train.h5ad'\n",
    "test_dir = f'{d}sc9_test.h5ad'"
   ]
  },
  {
   "cell_type": "markdown",
   "metadata": {
    "pycharm": {
     "name": "#%% md\n"
    }
   },
   "source": [
    "Set the two or several cell types to classification. We use cell_type_str for identify file name for different combination of cell types."
   ]
  },
  {
   "cell_type": "code",
   "execution_count": 4,
   "metadata": {
    "pycharm": {
     "name": "#%%\n"
    }
   },
   "outputs": [],
   "source": [
    "cell_type_list = [\"cd4_t_helper\", \"naive_t\"]\n",
    "cell_type_str = \"-\".join(cell_type_list)"
   ]
  },
  {
   "cell_type": "code",
   "execution_count": 5,
   "metadata": {},
   "outputs": [],
   "source": [
    "os.makedirs(f'{d}figures/', exist_ok=True)\n",
    "os.makedirs(f'{d}output/', exist_ok=True)"
   ]
  },
  {
   "cell_type": "markdown",
   "metadata": {
    "pycharm": {
     "name": "#%% md\n"
    }
   },
   "source": [
    "Load training data and test data. The training and test data are already preprocessed."
   ]
  },
  {
   "cell_type": "code",
   "execution_count": 6,
   "metadata": {
    "pycharm": {
     "name": "#%%\n"
    }
   },
   "outputs": [],
   "source": [
    "train_data = sc.read(train_dir)\n",
    "test_data = sc.read(test_dir)"
   ]
  },
  {
   "cell_type": "code",
   "execution_count": 7,
   "metadata": {},
   "outputs": [
    {
     "data": {
      "text/plain": [
       "AnnData object with n_obs × n_vars = 42457 × 32738\n",
       "    obs: 'cell_type', 'n_genes_by_counts', 'total_counts', 'total_counts_mito', 'pct_counts_mito', 'n_genes'\n",
       "    var: 'mito', 'n_cells_by_counts', 'mean_counts', 'pct_dropout_by_counts', 'total_counts'"
      ]
     },
     "execution_count": 7,
     "metadata": {},
     "output_type": "execute_result"
    }
   ],
   "source": [
    "train_data"
   ]
  },
  {
   "cell_type": "code",
   "execution_count": 8,
   "metadata": {
    "pycharm": {
     "name": "#%%\n"
    }
   },
   "outputs": [
    {
     "data": {
      "text/plain": [
       "AnnData object with n_obs × n_vars = 42458 × 32738\n",
       "    obs: 'cell_type', 'n_genes_by_counts', 'total_counts', 'total_counts_mito', 'pct_counts_mito', 'n_genes'\n",
       "    var: 'mito', 'n_cells_by_counts', 'mean_counts', 'pct_dropout_by_counts', 'total_counts'"
      ]
     },
     "execution_count": 8,
     "metadata": {},
     "output_type": "execute_result"
    }
   ],
   "source": [
    "test_data"
   ]
  },
  {
   "cell_type": "code",
   "execution_count": 9,
   "metadata": {},
   "outputs": [
    {
     "name": "stdout",
     "output_type": "stream",
     "text": [
      "normalizing counts per cell\n",
      "    finished (0:00:00)\n",
      "normalizing counts per cell\n",
      "    finished (0:00:00)\n"
     ]
    },
    {
     "data": {
      "text/plain": [
       "AnnData object with n_obs × n_vars = 42458 × 32738\n",
       "    obs: 'cell_type', 'n_genes_by_counts', 'total_counts', 'total_counts_mito', 'pct_counts_mito', 'n_genes', 'total_counts_mt', 'pct_counts_mt'\n",
       "    var: 'mito', 'n_cells_by_counts', 'mean_counts', 'pct_dropout_by_counts', 'total_counts', 'mt'\n",
       "    uns: 'log1p'"
      ]
     },
     "execution_count": 9,
     "metadata": {},
     "output_type": "execute_result"
    }
   ],
   "source": [
    "qc(train_data)\n",
    "qc(test_data)"
   ]
  },
  {
   "cell_type": "code",
   "execution_count": 10,
   "metadata": {
    "pycharm": {
     "name": "#%%\n"
    }
   },
   "outputs": [
    {
     "data": {
      "text/plain": [
       "naive_cytotoxic    6009\n",
       "cd4_t_helper       5576\n",
       "naive_t            5217\n",
       "regulatory_t       5135\n",
       "cytotoxic_t        5112\n",
       "memory_t           5098\n",
       "b_cells            4995\n",
       "cd56_nk            4033\n",
       "cd14_monocytes     1282\n",
       "Name: cell_type, dtype: int64"
      ]
     },
     "execution_count": 10,
     "metadata": {},
     "output_type": "execute_result"
    }
   ],
   "source": [
    "train_data.obs.cell_type.value_counts()"
   ]
  },
  {
   "cell_type": "code",
   "execution_count": 11,
   "metadata": {
    "pycharm": {
     "name": "#%%\n"
    }
   },
   "outputs": [
    {
     "data": {
      "text/plain": [
       "naive_cytotoxic    5900\n",
       "cd4_t_helper       5601\n",
       "naive_t            5243\n",
       "memory_t           5106\n",
       "regulatory_t       5084\n",
       "cytotoxic_t        5081\n",
       "b_cells            4928\n",
       "cd56_nk            4222\n",
       "cd14_monocytes     1293\n",
       "Name: cell_type, dtype: int64"
      ]
     },
     "execution_count": 11,
     "metadata": {},
     "output_type": "execute_result"
    }
   ],
   "source": [
    "test_data.obs.cell_type.value_counts()"
   ]
  },
  {
   "cell_type": "markdown",
   "metadata": {
    "pycharm": {
     "name": "#%% md\n"
    }
   },
   "source": [
    "Filter training data and test data by cell type, so that the data contains only the cells with given cell types to classify."
   ]
  },
  {
   "cell_type": "code",
   "execution_count": 12,
   "metadata": {
    "pycharm": {
     "name": "#%%\n"
    }
   },
   "outputs": [],
   "source": [
    "train_data = train_data[train_data.obs.cell_type.isin(cell_type_list),:]\n",
    "test_data = test_data[test_data.obs.cell_type.isin(cell_type_list),:]"
   ]
  },
  {
   "cell_type": "code",
   "execution_count": 13,
   "metadata": {},
   "outputs": [
    {
     "data": {
      "text/plain": [
       "View of AnnData object with n_obs × n_vars = 10793 × 32738\n",
       "    obs: 'cell_type', 'n_genes_by_counts', 'total_counts', 'total_counts_mito', 'pct_counts_mito', 'n_genes', 'total_counts_mt', 'pct_counts_mt'\n",
       "    var: 'mito', 'n_cells_by_counts', 'mean_counts', 'pct_dropout_by_counts', 'total_counts', 'mt'\n",
       "    uns: 'log1p'"
      ]
     },
     "execution_count": 13,
     "metadata": {},
     "output_type": "execute_result"
    }
   ],
   "source": [
    "train_data"
   ]
  },
  {
   "cell_type": "code",
   "execution_count": 14,
   "metadata": {},
   "outputs": [
    {
     "data": {
      "text/plain": [
       "View of AnnData object with n_obs × n_vars = 10844 × 32738\n",
       "    obs: 'cell_type', 'n_genes_by_counts', 'total_counts', 'total_counts_mito', 'pct_counts_mito', 'n_genes', 'total_counts_mt', 'pct_counts_mt'\n",
       "    var: 'mito', 'n_cells_by_counts', 'mean_counts', 'pct_dropout_by_counts', 'total_counts', 'mt'\n",
       "    uns: 'log1p'"
      ]
     },
     "execution_count": 14,
     "metadata": {},
     "output_type": "execute_result"
    }
   ],
   "source": [
    "test_data"
   ]
  },
  {
   "cell_type": "markdown",
   "metadata": {},
   "source": [
    "We split 10% of the training data to be validation data for the training process."
   ]
  },
  {
   "cell_type": "code",
   "execution_count": 15,
   "metadata": {},
   "outputs": [
    {
     "data": {
      "text/plain": [
       "View of AnnData object with n_obs × n_vars = 1079 × 32738\n",
       "    obs: 'cell_type', 'n_genes_by_counts', 'total_counts', 'total_counts_mito', 'pct_counts_mito', 'n_genes', 'total_counts_mt', 'pct_counts_mt'\n",
       "    var: 'mito', 'n_cells_by_counts', 'mean_counts', 'pct_dropout_by_counts', 'total_counts', 'mt'\n",
       "    uns: 'log1p'"
      ]
     },
     "execution_count": 15,
     "metadata": {},
     "output_type": "execute_result"
    }
   ],
   "source": [
    "val_cell_id = train_data.obs.index[np.random.choice(len(train_data), math.floor(0.1*len(train_data)), replace = False)]\n",
    "val_data = train_data[val_cell_id]\n",
    "val_data"
   ]
  },
  {
   "cell_type": "code",
   "execution_count": 16,
   "metadata": {},
   "outputs": [],
   "source": [
    "train_cell_id = [index for index in train_data.obs.index if index not in val_cell_id]\n",
    "train_data = train_data[train_cell_id]"
   ]
  },
  {
   "cell_type": "code",
   "execution_count": 17,
   "metadata": {},
   "outputs": [
    {
     "data": {
      "text/plain": [
       "View of AnnData object with n_obs × n_vars = 9714 × 32738\n",
       "    obs: 'cell_type', 'n_genes_by_counts', 'total_counts', 'total_counts_mito', 'pct_counts_mito', 'n_genes', 'total_counts_mt', 'pct_counts_mt'\n",
       "    var: 'mito', 'n_cells_by_counts', 'mean_counts', 'pct_dropout_by_counts', 'total_counts', 'mt'\n",
       "    uns: 'log1p'"
      ]
     },
     "execution_count": 17,
     "metadata": {},
     "output_type": "execute_result"
    }
   ],
   "source": [
    "train_data"
   ]
  },
  {
   "cell_type": "markdown",
   "metadata": {},
   "source": [
    "We input the data into our SDAN pipeline."
   ]
  },
  {
   "cell_type": "code",
   "execution_count": null,
   "metadata": {},
   "outputs": [
    {
     "name": "stdout",
     "output_type": "stream",
     "text": [
      "The number of DE genes for cd4_t_helper: 1677\n",
      "If you pass `n_top_genes`, all cutoffs are ignored.\n",
      "extracting highly variable genes\n",
      "    finished (0:00:00)\n",
      "--> added\n",
      "    'highly_variable', boolean vector (adata.var)\n",
      "    'means', float vector (adata.var)\n",
      "    'dispersions', float vector (adata.var)\n",
      "    'dispersions_norm', float vector (adata.var)\n"
     ]
    },
    {
     "name": "stderr",
     "output_type": "stream",
     "text": [
      "/Users/zxlin/opt/anaconda3/envs/gene_embedding/lib/python3.9/site-packages/anndata/compat/_overloaded_dict.py:106: ImplicitModificationWarning: Trying to modify attribute `._uns` of view, initializing view as actual.\n",
      "  self.data[key] = value\n"
     ]
    },
    {
     "name": "stdout",
     "output_type": "stream",
     "text": [
      "The number of DE genes for naive_t: 181\n",
      "If you pass `n_top_genes`, all cutoffs are ignored.\n",
      "extracting highly variable genes\n",
      "`n_top_genes` > `adata.n_var`, returning all genes.\n",
      "    finished (0:00:00)\n",
      "--> added\n",
      "    'highly_variable', boolean vector (adata.var)\n",
      "    'means', float vector (adata.var)\n",
      "    'dispersions', float vector (adata.var)\n",
      "    'dispersions_norm', float vector (adata.var)\n",
      "The number of DE genes: 1181\n"
     ]
    },
    {
     "name": "stderr",
     "output_type": "stream",
     "text": [
      "/Users/zxlin/opt/anaconda3/envs/gene_embedding/lib/python3.9/site-packages/anndata/compat/_overloaded_dict.py:106: ImplicitModificationWarning: Trying to modify attribute `._uns` of view, initializing view as actual.\n",
      "  self.data[key] = value\n"
     ]
    },
    {
     "name": "stdout",
     "output_type": "stream",
     "text": [
      "The proportion of non-isolated genes: 0.88\n",
      "The proportion of non-isolated genes: 0.88\n",
      "The proportion of non-isolated genes: 0.88\n",
      "Epoch: 000, Train Loss: 1.3767, Train AUC: 0.6892, Val Loss: 1.0051, Val AUC: 0.6648, Test Loss: 0.9992, Test AUC: 0.6822\n",
      "Epoch: 1000, Train Loss: 0.6805, Train AUC: 0.8467, Val Loss: 0.6782, Val AUC: 0.8426, Test Loss: 0.6798, Test AUC: 0.8328\n",
      "Epoch: 2000, Train Loss: 0.5876, Train AUC: 0.8604, Val Loss: 0.5876, Val AUC: 0.8474, Test Loss: 0.5957, Test AUC: 0.8325\n",
      "Epoch: 3000, Train Loss: 0.4718, Train AUC: 0.8908, Val Loss: 0.5100, Val AUC: 0.8630, Test Loss: 0.5319, Test AUC: 0.8485\n",
      "Epoch: 4000, Train Loss: 0.3422, Train AUC: 0.9048, Val Loss: 0.3830, Val AUC: 0.8730, Test Loss: 0.4049, Test AUC: 0.8572\n",
      "Epoch: 5000, Train Loss: 0.1534, Train AUC: 0.9117, Val Loss: 0.2094, Val AUC: 0.8704, Test Loss: 0.2211, Test AUC: 0.8606\n",
      "Epoch: 6000, Train Loss: -0.0331, Train AUC: 0.9185, Val Loss: 0.0441, Val AUC: 0.8668, Test Loss: 0.0493, Test AUC: 0.8615\n",
      "Epoch: 7000, Train Loss: -0.1571, Train AUC: 0.9188, Val Loss: -0.0635, Val AUC: 0.8698, Test Loss: -0.0579, Test AUC: 0.8621\n"
     ]
    }
   ],
   "source": [
    "[train_GNN, val_GNN, test_GNN], [train_labels, val_labels, test_labels], cell_type_list, gene_list = \\\n",
    "    pipeline([train_data, val_data, test_data], args, d, cell_type_str)"
   ]
  },
  {
   "cell_type": "markdown",
   "metadata": {},
   "source": [
    "Import the saved models and assignment matrix."
   ]
  },
  {
   "cell_type": "code",
   "execution_count": null,
   "metadata": {},
   "outputs": [],
   "source": [
    "model_dir = f'{d}output/model_{cell_type_str}.pth'\n",
    "model = torch.load(model_dir)\n",
    "train_s_dir = f'{d}output/train_s_{cell_type_str}.npy'\n",
    "train_s = torch.tensor(np.load(train_s_dir))"
   ]
  },
  {
   "cell_type": "markdown",
   "metadata": {},
   "source": [
    "Compute the test score and AUC."
   ]
  },
  {
   "cell_type": "code",
   "execution_count": null,
   "metadata": {},
   "outputs": [],
   "source": [
    "test_data_reduced = test_GNN.x.t() @ train_s\n",
    "val_data_reduced = val_GNN.x.t() @ train_s\n",
    "test_score, _, test_auc = test_model(model, test_data_reduced, test_labels)\n",
    "val_score, _, val_auc = test_model(model, val_data_reduced, val_labels)\n",
    "\n",
    "print(f'Val AUC: {val_auc:.4f}, Test AUC: {test_auc:.4f}')"
   ]
  },
  {
   "cell_type": "markdown",
   "metadata": {},
   "source": [
    "Apply the Leiden algorithm to the reduced data for unsupervised clustering."
   ]
  },
  {
   "cell_type": "code",
   "execution_count": null,
   "metadata": {},
   "outputs": [],
   "source": [
    "test_reduced = compute_leiden(test_data_reduced.detach().numpy(), test_data, n_neighbors=20, resolution=1)"
   ]
  },
  {
   "cell_type": "code",
   "execution_count": null,
   "metadata": {},
   "outputs": [],
   "source": [
    "sc.tl.tsne(test_reduced, n_pcs=0)"
   ]
  },
  {
   "cell_type": "code",
   "execution_count": null,
   "metadata": {},
   "outputs": [],
   "source": [
    "s2name(train_s, gene_list, cell_type_str, d)"
   ]
  },
  {
   "cell_type": "markdown",
   "metadata": {
    "pycharm": {
     "name": "#%% md\n"
    }
   },
   "source": [
    "Plot the contingency matrix."
   ]
  },
  {
   "cell_type": "code",
   "execution_count": null,
   "metadata": {
    "pycharm": {
     "is_executing": true,
     "name": "#%%\n"
    }
   },
   "outputs": [],
   "source": [
    "plt.figure(figsize=(2, 3), dpi=300)\n",
    "plot_contingency(test_reduced, cell_type_list, cell_type_str, d)"
   ]
  },
  {
   "cell_type": "markdown",
   "metadata": {
    "pycharm": {
     "name": "#%% md\n"
    }
   },
   "source": [
    "Plot the confusion matrix."
   ]
  },
  {
   "cell_type": "code",
   "execution_count": null,
   "metadata": {
    "pycharm": {
     "is_executing": true,
     "name": "#%%\n"
    }
   },
   "outputs": [],
   "source": [
    "plt.figure()\n",
    "plot_confusion(test_reduced, cell_type_str, d)"
   ]
  },
  {
   "cell_type": "markdown",
   "metadata": {
    "pycharm": {
     "name": "#%% md\n"
    }
   },
   "source": [
    "Plot the TSNE."
   ]
  },
  {
   "cell_type": "code",
   "execution_count": null,
   "metadata": {
    "pycharm": {
     "is_executing": true,
     "name": "#%%\n"
    }
   },
   "outputs": [],
   "source": [
    "sc.settings.set_figure_params(figsize=(3, 3), dpi=300)\n",
    "sc.pl.tsne(test_reduced, color=[\"cell_type\", \"leiden\"], title=['cell_type', 'leiden'], return_fig=True, wspace=0.5)\n",
    "plt.savefig(f'{d}figures/tsne_{cell_type_str}.pdf')"
   ]
  },
  {
   "cell_type": "markdown",
   "metadata": {
    "pycharm": {
     "name": "#%% md\n"
    }
   },
   "source": [
    "Plot the heatmap of the assignment matrx."
   ]
  },
  {
   "cell_type": "code",
   "execution_count": null,
   "metadata": {
    "pycharm": {
     "is_executing": true,
     "name": "#%%\n"
    }
   },
   "outputs": [],
   "source": [
    "plt.figure(figsize=(3, 3), dpi=300)\n",
    "plot_s(train_s, cell_type_str, d)"
   ]
  },
  {
   "cell_type": "markdown",
   "metadata": {
    "pycharm": {
     "name": "#%% md\n"
    }
   },
   "source": [
    "Save the names of genes for each component of the assignment matrix."
   ]
  },
  {
   "cell_type": "code",
   "execution_count": null,
   "metadata": {},
   "outputs": [],
   "source": [
    "pd.read_csv(f'{d}/output/name_s_{cell_type_str}.txt', sep='\\t', header=None)"
   ]
  }
 ],
 "metadata": {
  "kernelspec": {
   "display_name": "Python 3 (ipykernel)",
   "language": "python",
   "name": "python3"
  },
  "language_info": {
   "codemirror_mode": {
    "name": "ipython",
    "version": 3
   },
   "file_extension": ".py",
   "mimetype": "text/x-python",
   "name": "python",
   "nbconvert_exporter": "python",
   "pygments_lexer": "ipython3",
   "version": "3.9.7"
  }
 },
 "nbformat": 4,
 "nbformat_minor": 4
}
